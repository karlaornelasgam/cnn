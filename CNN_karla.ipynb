{
  "cells": [
    {
      "cell_type": "code",
      "execution_count": 2,
      "metadata": {
        "colab": {
          "base_uri": "https://localhost:8080/"
        },
        "id": "hTU4PWilEaKp",
        "outputId": "5a41f4ce-083b-49c4-d0d8-e90075726f99",
        "scrolled": true
      },
      "outputs": [],
      "source": [
        "\n",
        "\n",
        "import cv2 \n",
        "\n",
        "img = cv2.imread('/Users/karla/Documents/inteligencia_artificial/tareas/datasetcara')\n",
        "#print(img.shape[0], img.shape[1], img.shape[2], len(img.shape))"
      ]
    },
    {
      "attachments": {},
      "cell_type": "markdown",
      "metadata": {
        "id": "ukxzrTA8EaKr"
      },
      "source": [
        "# Convolutional Neural Networks"
      ]
    },
    {
      "attachments": {},
      "cell_type": "markdown",
      "metadata": {
        "id": "JDPGHOO2EaKs"
      },
      "source": []
    },
    {
      "attachments": {},
      "cell_type": "markdown",
      "metadata": {
        "id": "qHpkfzCjEaKs"
      },
      "source": [
        "# Importar Librerías"
      ]
    },
    {
      "cell_type": "code",
      "execution_count": 3,
      "metadata": {
        "id": "HzeLArHwEaKt"
      },
      "outputs": [],
      "source": [
        "import numpy as np\n",
        "import os\n",
        "import re\n",
        "import matplotlib.pyplot as plt\n",
        "#from google.colab import drive\n",
        "%matplotlib inline\n",
        "from sklearn.model_selection import train_test_split\n",
        "from sklearn.metrics import classification_report"
      ]
    },
    {
      "cell_type": "code",
      "execution_count": 4,
      "metadata": {
        "id": "EEmJuAM6EaKt",
        "scrolled": true
      },
      "outputs": [],
      "source": [
        "import keras\n",
        "import tensorflow as tf\n",
        "from tensorflow.keras.utils import to_categorical\n",
        "from keras.models import Sequential,Model\n",
        "from tensorflow.keras.layers import Input\n",
        "from keras.layers import Dense, Dropout, Flatten\n",
        "#from keras.layers import Conv2D, MaxPooling2D\n",
        "#from tensorflow.keras.models import Sequential\n",
        "from tensorflow.keras.layers import (\n",
        "    BatchNormalization, SeparableConv2D, MaxPooling2D, Activation, Flatten, Dropout, Dense, Conv2D\n",
        ")\n",
        "from keras.layers import LeakyReLU"
      ]
    },
    {
      "attachments": {},
      "cell_type": "markdown",
      "metadata": {
        "id": "4pHzYZioEaKu"
      },
      "source": [
        "# Cargar set de Imágenes"
      ]
    },
    {
      "cell_type": "code",
      "execution_count": 5,
      "metadata": {
        "colab": {
          "base_uri": "https://localhost:8080/"
        },
        "id": "uPCQ2adPEaKu",
        "outputId": "76ed4d2d-7e37-445e-fe57-846c6a31beca",
        "scrolled": true
      },
      "outputs": [
        {
          "name": "stdout",
          "output_type": "stream",
          "text": [
            "leyendo imagenes de  c:/Users/karla/Documents/inteligencia_artificial/tareas/datasetcara\\\n",
            "c:/Users/karla/Documents/inteligencia_artificial/tareas/datasetcara\\jessica 1\n",
            "c:/Users/karla/Documents/inteligencia_artificial/tareas/datasetcara\\jorge 6145\n",
            "c:/Users/karla/Documents/inteligencia_artificial/tareas/datasetcara\\karla 5413\n",
            "c:/Users/karla/Documents/inteligencia_artificial/tareas/datasetcara\\rodrigo 5114\n",
            "c:/Users/karla/Documents/inteligencia_artificial/tareas/datasetcara\\william 5278\n",
            "Directorios leidos: 5\n",
            "Imagenes en cada directorio [6146, 5413, 5114, 5278, 4691]\n",
            "suma Total de imagenes en subdirs: 26642\n"
          ]
        }
      ],
      "source": [
        "dirname = os.path.join(os.getcwd(),'/Users/karla/Documents/inteligencia_artificial/tareas/datasetcara')\n",
        "imgpath = dirname + os.sep \n",
        "\n",
        "images = []\n",
        "directories = []\n",
        "dircount = []\n",
        "prevRoot=''\n",
        "cant=0\n",
        "\n",
        "print(\"leyendo imagenes de \",imgpath)\n",
        "\n",
        "for root, dirnames, filenames in os.walk(imgpath):\n",
        "    for filename in filenames:\n",
        "        if re.search(\"\\.(jpg|jpeg|png|bmp|tiff)$\", filename):\n",
        "            cant=cant+1\n",
        "            filepath = os.path.join(root, filename)\n",
        "            image = plt.imread(filepath)\n",
        "            if(len(image.shape)==3):\n",
        "                \n",
        "                images.append(image)\n",
        "            b = \"Leyendo...\" + str(cant)\n",
        "            print (b, end=\"\\r\")\n",
        "            if prevRoot !=root:\n",
        "                print(root, cant)\n",
        "                prevRoot=root\n",
        "                directories.append(root)\n",
        "                dircount.append(cant)\n",
        "                cant=0\n",
        "dircount.append(cant)\n",
        "\n",
        "dircount = dircount[1:]\n",
        "dircount[0]=dircount[0]+1\n",
        "print('Directorios leidos:',len(directories))\n",
        "print(\"Imagenes en cada directorio\", dircount)\n",
        "print('suma Total de imagenes en subdirs:',sum(dircount))"
      ]
    },
    {
      "attachments": {},
      "cell_type": "markdown",
      "metadata": {
        "id": "b0ARZ1TuEaKv"
      },
      "source": [
        "# Creamos las etiquetas"
      ]
    },
    {
      "cell_type": "code",
      "execution_count": 6,
      "metadata": {
        "colab": {
          "base_uri": "https://localhost:8080/"
        },
        "id": "CIM70DjCEaKv",
        "outputId": "6d636cc1-1e20-4017-bbb1-eec54b2fb77a"
      },
      "outputs": [
        {
          "name": "stdout",
          "output_type": "stream",
          "text": [
            "Cantidad etiquetas creadas:  26642\n"
          ]
        }
      ],
      "source": [
        "labels=[]\n",
        "indice=0\n",
        "for cantidad in dircount:\n",
        "    for i in range(cantidad):\n",
        "        labels.append(indice)\n",
        "    indice=indice+1\n",
        "print(\"Cantidad etiquetas creadas: \",len(labels))\n"
      ]
    },
    {
      "cell_type": "code",
      "execution_count": 7,
      "metadata": {
        "colab": {
          "base_uri": "https://localhost:8080/"
        },
        "id": "EFo2rFuOEaKv",
        "outputId": "bd7b313f-574b-43f2-bedc-5c435395c1a9"
      },
      "outputs": [
        {
          "name": "stdout",
          "output_type": "stream",
          "text": [
            "0 jessica\n",
            "1 jorge\n",
            "2 karla\n",
            "3 rodrigo\n",
            "4 william\n"
          ]
        }
      ],
      "source": [
        "caras=[]\n",
        "indice=0\n",
        "for directorio in directories:\n",
        "    name = directorio.split(os.sep)\n",
        "    print(indice , name[len(name)-1])\n",
        "    caras.append(name[len(name)-1])\n",
        "    indice=indice+1"
      ]
    },
    {
      "cell_type": "code",
      "execution_count": 8,
      "metadata": {
        "colab": {
          "base_uri": "https://localhost:8080/"
        },
        "id": "sId1hUaXEaKw",
        "outputId": "149139a2-d774-470b-de84-b43c52830c7f"
      },
      "outputs": [
        {
          "name": "stdout",
          "output_type": "stream",
          "text": [
            "Total number of outputs :  5\n",
            "Output classes :  [0 1 2 3 4]\n"
          ]
        }
      ],
      "source": [
        "y = np.array(labels)\n",
        "X = np.array(images, dtype=np.uint8) #convierto de lista a numpy\n",
        "\n",
        "\n",
        "\n",
        "# Find the unique numbers from the train labels\n",
        "classes = np.unique(y)\n",
        "nClasses = len(classes)\n",
        "print('Total number of outputs : ', nClasses)\n",
        "print('Output classes : ', classes)"
      ]
    },
    {
      "attachments": {},
      "cell_type": "markdown",
      "metadata": {
        "id": "3c8g0JWNEaKx"
      },
      "source": [
        "# Creamos Sets de Entrenamiento y Test"
      ]
    },
    {
      "cell_type": "code",
      "execution_count": 9,
      "metadata": {
        "colab": {
          "base_uri": "https://localhost:8080/"
        },
        "id": "D_cG8HaFEaKx",
        "outputId": "bc149f37-3218-4747-9e85-5891e1c03adf"
      },
      "outputs": [
        {
          "name": "stdout",
          "output_type": "stream",
          "text": [
            "Training data shape :  (21313, 28, 28, 3) (21313,)\n",
            "Testing data shape :  (5329, 28, 28, 3) (5329,)\n"
          ]
        }
      ],
      "source": [
        "train_X,test_X,train_Y,test_Y = train_test_split(X,y,test_size=0.2)\n",
        "print('Training data shape : ', train_X.shape, train_Y.shape)\n",
        "print('Testing data shape : ', test_X.shape, test_Y.shape)"
      ]
    },
    {
      "cell_type": "code",
      "execution_count": 10,
      "metadata": {
        "colab": {
          "base_uri": "https://localhost:8080/",
          "height": 277
        },
        "id": "qKi8S28vEaKy",
        "outputId": "619f9c2c-07cb-41a0-e114-b2dca06234a6"
      },
      "outputs": [
        {
          "data": {
            "text/plain": [
              "Text(0.5, 1.0, 'Ground Truth : 3')"
            ]
          },
          "execution_count": 10,
          "metadata": {},
          "output_type": "execute_result"
        },
        {
          "data": {
            "image/png": "[encoded data removed]",
            "text/plain": [
              "<Figure size 500x500 with 2 Axes>"
            ]
          },
          "metadata": {},
          "output_type": "display_data"
        }
      ],
      "source": [
        "plt.figure(figsize=[5,5])\n",
        "\n",
        "# Display the first image in training data\n",
        "plt.subplot(121)\n",
        "plt.imshow(train_X[0,:,:], cmap='gray')\n",
        "plt.title(\"Ground Truth : {}\".format(train_Y[0]))\n",
        "\n",
        "# Display the first image in testing data\n",
        "plt.subplot(122)\n",
        "plt.imshow(test_X[0,:,:], cmap='gray')\n",
        "plt.title(\"Ground Truth : {}\".format(test_Y[0]))"
      ]
    },
    {
      "attachments": {},
      "cell_type": "markdown",
      "metadata": {
        "id": "NX7rrDJOEaKz"
      },
      "source": [
        "# Preprocesamos las imagenes"
      ]
    },
    {
      "cell_type": "code",
      "execution_count": 11,
      "metadata": {
        "colab": {
          "base_uri": "https://localhost:8080/",
          "height": 448
        },
        "id": "zAbyXIWMEaKz",
        "outputId": "1f1c0cf1-fcbc-4a90-d394-c386167cca99"
      },
      "outputs": [
        {
          "data": {
            "text/plain": [
              "<matplotlib.image.AxesImage at 0x22f4d83c400>"
            ]
          },
          "execution_count": 11,
          "metadata": {},
          "output_type": "execute_result"
        },
        {
          "data": {
            "image/png": "[encoded data removed]",
            "text/plain": [
              "<Figure size 640x480 with 1 Axes>"
            ]
          },
          "metadata": {},
          "output_type": "display_data"
        }
      ],
      "source": [
        "train_X = train_X.astype('float32')\n",
        "test_X = test_X.astype('float32')\n",
        "train_X = train_X/255.\n",
        "test_X = test_X/255.\n",
        "plt.imshow(test_X[0,:,:])"
      ]
    },
    {
      "attachments": {},
      "cell_type": "markdown",
      "metadata": {
        "id": "VjH6AFEPEaK0"
      },
      "source": [
        "## Hacemos el One-hot Encoding para la red"
      ]
    },
    {
      "cell_type": "code",
      "execution_count": 12,
      "metadata": {
        "colab": {
          "base_uri": "https://localhost:8080/"
        },
        "id": "dZ8WThVOEaK1",
        "outputId": "9cc99eb7-8564-4f90-8dae-13157950a3cc"
      },
      "outputs": [
        {
          "name": "stdout",
          "output_type": "stream",
          "text": [
            "Original label: 0\n",
            "After conversion to one-hot: [1. 0. 0. 0. 0.]\n"
          ]
        }
      ],
      "source": [
        "# Change the labels from categorical to one-hot encoding\n",
        "train_Y_one_hot = to_categorical(train_Y)\n",
        "test_Y_one_hot = to_categorical(test_Y)\n",
        "\n",
        "# Display the change for category label using one-hot encoding\n",
        "print('Original label:', train_Y[0])\n",
        "print('After conversion to one-hot:', train_Y_one_hot[0])"
      ]
    },
    {
      "attachments": {},
      "cell_type": "markdown",
      "metadata": {
        "id": "bUZV4eTEEaK1"
      },
      "source": [
        "# Creamos el Set de Entrenamiento y Validación"
      ]
    },
    {
      "cell_type": "code",
      "execution_count": 13,
      "metadata": {
        "id": "rzgQK_e9EaK1"
      },
      "outputs": [],
      "source": [
        "#Mezclar todo y crear los grupos de entrenamiento y testing\n",
        "train_X,valid_X,train_label,valid_label = train_test_split(train_X, train_Y_one_hot, test_size=0.2, random_state=13)"
      ]
    },
    {
      "cell_type": "code",
      "execution_count": 14,
      "metadata": {
        "colab": {
          "base_uri": "https://localhost:8080/"
        },
        "id": "9LxzrDKtEaK1",
        "outputId": "aeb99c6e-02ac-4c28-b32c-756ddcf65b3f"
      },
      "outputs": [
        {
          "name": "stdout",
          "output_type": "stream",
          "text": [
            "(17050, 28, 28, 3) (4263, 28, 28, 3) (17050, 5) (4263, 5)\n"
          ]
        }
      ],
      "source": [
        "print(train_X.shape,valid_X.shape,train_label.shape,valid_label.shape)"
      ]
    },
    {
      "attachments": {},
      "cell_type": "markdown",
      "metadata": {
        "id": "0DMzukaFEaK2"
      },
      "source": [
        "# Creamos el modelo de CNN"
      ]
    },
    {
      "cell_type": "code",
      "execution_count": 15,
      "metadata": {
        "id": "wVjVUJNLEaK2"
      },
      "outputs": [],
      "source": [
        "#declaramos variables con los parámetros de configuración de la red\n",
        "INIT_LR = 1e-3 # Valor inicial de learning rate. El valor 1e-3 corresponde con 0.001\n",
        "epochs = 20 # Cantidad de iteraciones completas al conjunto de imagenes de entrenamiento\n",
        "batch_size = 64 # cantidad de imágenes que se toman a la vez en memoria"
      ]
    },
    {
      "cell_type": "code",
      "execution_count": 16,
      "metadata": {
        "id": "5xJ5wW_LEaK2"
      },
      "outputs": [],
      "source": [
        "sport_model = Sequential()\n",
        "sport_model.add(Conv2D(32, kernel_size=(3, 3),activation='linear',padding='same',input_shape=(28,28,3)))\n",
        "sport_model.add(LeakyReLU(alpha=0.1))\n",
        "sport_model.add(MaxPooling2D((2, 2),padding='same'))\n",
        "sport_model.add(Dropout(0.5))\n",
        "\n",
        "sport_model.add(Flatten())\n",
        "sport_model.add(Dense(32, activation='linear'))\n",
        "sport_model.add(LeakyReLU(alpha=0.1))\n",
        "sport_model.add(Dropout(0.5))\n",
        "sport_model.add(Dense(nClasses, activation='softmax'))"
      ]
    },
    {
      "cell_type": "code",
      "execution_count": 17,
      "metadata": {
        "colab": {
          "base_uri": "https://localhost:8080/"
        },
        "id": "QJJmoQTqEaK2",
        "outputId": "f5593312-970a-47e2-b9c3-cbedd259ba19"
      },
      "outputs": [
        {
          "name": "stdout",
          "output_type": "stream",
          "text": [
            "Model: \"sequential\"\n",
            "_________________________________________________________________\n",
            " Layer (type)                Output Shape              Param #   \n",
            "=================================================================\n",
            " conv2d (Conv2D)             (None, 28, 28, 32)        896       \n",
            "                                                                 \n",
            " leaky_re_lu (LeakyReLU)     (None, 28, 28, 32)        0         \n",
            "                                                                 \n",
            " max_pooling2d (MaxPooling2D  (None, 14, 14, 32)       0         \n",
            " )                                                               \n",
            "                                                                 \n",
            " dropout (Dropout)           (None, 14, 14, 32)        0         \n",
            "                                                                 \n",
            " flatten (Flatten)           (None, 6272)              0         \n",
            "                                                                 \n",
            " dense (Dense)               (None, 32)                200736    \n",
            "                                                                 \n",
            " leaky_re_lu_1 (LeakyReLU)   (None, 32)                0         \n",
            "                                                                 \n",
            " dropout_1 (Dropout)         (None, 32)                0         \n",
            "                                                                 \n",
            " dense_1 (Dense)             (None, 5)                 165       \n",
            "                                                                 \n",
            "=================================================================\n",
            "Total params: 201,797\n",
            "Trainable params: 201,797\n",
            "Non-trainable params: 0\n",
            "_________________________________________________________________\n"
          ]
        }
      ],
      "source": [
        "sport_model.summary()"
      ]
    },
    {
      "cell_type": "code",
      "execution_count": 18,
      "metadata": {
        "id": "eiYtx7Q_EaK3"
      },
      "outputs": [],
      "source": [
        "sport_model.compile(loss=keras.losses.categorical_crossentropy, optimizer=tf.keras.optimizers.legacy.SGD(learning_rate=INIT_LR, decay=INIT_LR / 100),metrics=['accuracy'])"
      ]
    },
    {
      "attachments": {},
      "cell_type": "markdown",
      "metadata": {
        "id": "e-6mxhzbEaK3"
      },
      "source": [
        "# Entrenamos el modelo: Aprende a clasificar imágenes"
      ]
    },
    {
      "cell_type": "code",
      "execution_count": 19,
      "metadata": {
        "colab": {
          "base_uri": "https://localhost:8080/"
        },
        "id": "eDxSAPp8EaK3",
        "outputId": "f9ea6eb6-9cff-4371-846a-19cae71cf543"
      },
      "outputs": [
        {
          "name": "stdout",
          "output_type": "stream",
          "text": [
            "Epoch 1/20\n",
            "267/267 [==============================] - 26s 84ms/step - loss: 1.5949 - accuracy: 0.2465 - val_loss: 1.5314 - val_accuracy: 0.3059\n",
            "Epoch 2/20\n",
            "267/267 [==============================] - 24s 90ms/step - loss: 1.4906 - accuracy: 0.3653 - val_loss: 1.3574 - val_accuracy: 0.6076\n",
            "Epoch 3/20\n",
            "267/267 [==============================] - 24s 90ms/step - loss: 1.3459 - accuracy: 0.4568 - val_loss: 1.1450 - val_accuracy: 0.8060\n",
            "Epoch 4/20\n",
            "267/267 [==============================] - 25s 94ms/step - loss: 1.1889 - accuracy: 0.5523 - val_loss: 0.9309 - val_accuracy: 0.8590\n",
            "Epoch 5/20\n",
            "267/267 [==============================] - 25s 93ms/step - loss: 1.0401 - accuracy: 0.6229 - val_loss: 0.7519 - val_accuracy: 0.8689\n",
            "Epoch 6/20\n",
            "267/267 [==============================] - 25s 93ms/step - loss: 0.9035 - accuracy: 0.6775 - val_loss: 0.6177 - val_accuracy: 0.8853\n",
            "Epoch 7/20\n",
            "267/267 [==============================] - 25s 92ms/step - loss: 0.8026 - accuracy: 0.7249 - val_loss: 0.5047 - val_accuracy: 0.8930\n",
            "Epoch 8/20\n",
            "267/267 [==============================] - 33s 124ms/step - loss: 0.7143 - accuracy: 0.7545 - val_loss: 0.4237 - val_accuracy: 0.9202\n",
            "Epoch 9/20\n",
            "267/267 [==============================] - 25s 95ms/step - loss: 0.6496 - accuracy: 0.7834 - val_loss: 0.3713 - val_accuracy: 0.9308\n",
            "Epoch 10/20\n",
            "267/267 [==============================] - 24s 90ms/step - loss: 0.5919 - accuracy: 0.8054 - val_loss: 0.3213 - val_accuracy: 0.9395\n",
            "Epoch 11/20\n",
            "267/267 [==============================] - 24s 91ms/step - loss: 0.5370 - accuracy: 0.8246 - val_loss: 0.2851 - val_accuracy: 0.9491\n",
            "Epoch 12/20\n",
            "267/267 [==============================] - 25s 92ms/step - loss: 0.5015 - accuracy: 0.8397 - val_loss: 0.2508 - val_accuracy: 0.9604\n",
            "Epoch 13/20\n",
            "267/267 [==============================] - 26s 99ms/step - loss: 0.4666 - accuracy: 0.8543 - val_loss: 0.2218 - val_accuracy: 0.9700\n",
            "Epoch 14/20\n",
            "267/267 [==============================] - 39s 145ms/step - loss: 0.4350 - accuracy: 0.8645 - val_loss: 0.2000 - val_accuracy: 0.9726\n",
            "Epoch 15/20\n",
            "267/267 [==============================] - 33s 123ms/step - loss: 0.4038 - accuracy: 0.8792 - val_loss: 0.1792 - val_accuracy: 0.9733\n",
            "Epoch 16/20\n",
            "267/267 [==============================] - 27s 103ms/step - loss: 0.3792 - accuracy: 0.8863 - val_loss: 0.1651 - val_accuracy: 0.9765\n",
            "Epoch 17/20\n",
            "267/267 [==============================] - 26s 97ms/step - loss: 0.3604 - accuracy: 0.8962 - val_loss: 0.1478 - val_accuracy: 0.9789\n",
            "Epoch 18/20\n",
            "267/267 [==============================] - 28s 103ms/step - loss: 0.3328 - accuracy: 0.9051 - val_loss: 0.1324 - val_accuracy: 0.9808\n",
            "Epoch 19/20\n",
            "267/267 [==============================] - 26s 99ms/step - loss: 0.3180 - accuracy: 0.9086 - val_loss: 0.1228 - val_accuracy: 0.9845\n",
            "Epoch 20/20\n",
            "267/267 [==============================] - 29s 110ms/step - loss: 0.3022 - accuracy: 0.9141 - val_loss: 0.1134 - val_accuracy: 0.9845\n"
          ]
        }
      ],
      "source": [
        "# este paso puede tomar varios minutos, dependiendo de tu ordenador, cpu y memoria ram libre\n",
        "sport_train = sport_model.fit(train_X, train_label, batch_size=batch_size,epochs=epochs,verbose=1,validation_data=(valid_X, valid_label))"
      ]
    },
    {
      "cell_type": "code",
      "execution_count": 20,
      "metadata": {
        "colab": {
          "base_uri": "https://localhost:8080/"
        },
        "id": "DIjLN1lDEaK3",
        "outputId": "7549a4c0-0ac7-47a3-d286-be498e6c4ab9"
      },
      "outputs": [
        {
          "name": "stderr",
          "output_type": "stream",
          "text": [
            "WARNING:absl:Found untraced functions such as _jit_compiled_convolution_op while saving (showing 1 of 1). These functions will not be directly callable after loading.\n"
          ]
        },
        {
          "name": "stdout",
          "output_type": "stream",
          "text": [
            "INFO:tensorflow:Assets written to: /Users/karla/Documents/inteligencia_artificial/tareas/celulas.h5py\\assets\n"
          ]
        },
        {
          "name": "stderr",
          "output_type": "stream",
          "text": [
            "INFO:tensorflow:Assets written to: /Users/karla/Documents/inteligencia_artificial/tareas/celulas.h5py\\assets\n"
          ]
        }
      ],
      "source": [
        "# guardamos la red, para reutilizarla en el futuro, sin tener que volver a entrenar\n",
        "sport_model.save(\"/Users/karla/Documents/inteligencia_artificial/tareas/celulas.h5py\")"
      ]
    },
    {
      "attachments": {},
      "cell_type": "markdown",
      "metadata": {
        "id": "hjD0K393EaK3"
      },
      "source": [
        "# Evaluamos la red"
      ]
    },
    {
      "cell_type": "code",
      "execution_count": 21,
      "metadata": {
        "colab": {
          "base_uri": "https://localhost:8080/"
        },
        "id": "1Yjz0cH4EaK4",
        "outputId": "6356cb10-5006-4afe-bf97-a1374b79c284"
      },
      "outputs": [
        {
          "name": "stdout",
          "output_type": "stream",
          "text": [
            "167/167 [==============================] - 3s 19ms/step - loss: 0.1180 - accuracy: 0.9840\n"
          ]
        }
      ],
      "source": [
        "test_eval = sport_model.evaluate(test_X, test_Y_one_hot, verbose=1)"
      ]
    },
    {
      "cell_type": "code",
      "execution_count": 22,
      "metadata": {
        "colab": {
          "base_uri": "https://localhost:8080/"
        },
        "id": "PHZgnQhIEaK4",
        "outputId": "49a3e4b3-75c1-480a-d91f-4bc7e3cc7b8b"
      },
      "outputs": [
        {
          "name": "stdout",
          "output_type": "stream",
          "text": [
            "Test loss: 0.11797426640987396\n",
            "Test accuracy: 0.9840495586395264\n"
          ]
        }
      ],
      "source": [
        "print('Test loss:', test_eval[0])\n",
        "print('Test accuracy:', test_eval[1])"
      ]
    },
    {
      "cell_type": "code",
      "execution_count": 23,
      "metadata": {
        "colab": {
          "base_uri": "https://localhost:8080/"
        },
        "id": "rpqhCzFGEaK7",
        "outputId": "d7e1375a-9575-4c0f-bc72-3ade2af63b84"
      },
      "outputs": [
        {
          "data": {
            "text/plain": [
              "{'loss': [1.5948600769042969,\n",
              "  1.49056077003479,\n",
              "  1.3458954095840454,\n",
              "  1.1888834238052368,\n",
              "  1.040122628211975,\n",
              "  0.9035238027572632,\n",
              "  0.8026131391525269,\n",
              "  0.7142969369888306,\n",
              "  0.6495804786682129,\n",
              "  0.5919259190559387,\n",
              "  0.5369822382926941,\n",
              "  0.5014656782150269,\n",
              "  0.46662071347236633,\n",
              "  0.43498873710632324,\n",
              "  0.40377533435821533,\n",
              "  0.3792197108268738,\n",
              "  0.36035725474357605,\n",
              "  0.3327632546424866,\n",
              "  0.3179711699485779,\n",
              "  0.3021943271160126],\n",
              " 'accuracy': [0.24651026725769043,\n",
              "  0.3653372526168823,\n",
              "  0.4568328559398651,\n",
              "  0.5522580742835999,\n",
              "  0.6229325532913208,\n",
              "  0.67753666639328,\n",
              "  0.7248680591583252,\n",
              "  0.7545454502105713,\n",
              "  0.7834017872810364,\n",
              "  0.8053959012031555,\n",
              "  0.8246334195137024,\n",
              "  0.8397067189216614,\n",
              "  0.8543108701705933,\n",
              "  0.8645161390304565,\n",
              "  0.8791788816452026,\n",
              "  0.8863343000411987,\n",
              "  0.8962463140487671,\n",
              "  0.9051026105880737,\n",
              "  0.9085630774497986,\n",
              "  0.9141349196434021],\n",
              " 'val_loss': [1.5314255952835083,\n",
              "  1.3574124574661255,\n",
              "  1.1450103521347046,\n",
              "  0.9309295415878296,\n",
              "  0.7518823742866516,\n",
              "  0.6176812052726746,\n",
              "  0.5047378540039062,\n",
              "  0.42367494106292725,\n",
              "  0.37129369378089905,\n",
              "  0.3212800920009613,\n",
              "  0.28508099913597107,\n",
              "  0.25083914399147034,\n",
              "  0.22176463901996613,\n",
              "  0.2000322937965393,\n",
              "  0.17915606498718262,\n",
              "  0.16513967514038086,\n",
              "  0.14780133962631226,\n",
              "  0.1324160397052765,\n",
              "  0.1228034645318985,\n",
              "  0.11344871670007706],\n",
              " 'val_accuracy': [0.3058878779411316,\n",
              "  0.6075533628463745,\n",
              "  0.8060051798820496,\n",
              "  0.8590194582939148,\n",
              "  0.8688716888427734,\n",
              "  0.8852920532226562,\n",
              "  0.8930330872535706,\n",
              "  0.9202439785003662,\n",
              "  0.9307999014854431,\n",
              "  0.9394792318344116,\n",
              "  0.9490968585014343,\n",
              "  0.9603565335273743,\n",
              "  0.9699742197990417,\n",
              "  0.9725545644760132,\n",
              "  0.9732582569122314,\n",
              "  0.9765423536300659,\n",
              "  0.9788880944252014,\n",
              "  0.9807647466659546,\n",
              "  0.9845179319381714,\n",
              "  0.9845179319381714]}"
            ]
          },
          "execution_count": 23,
          "metadata": {},
          "output_type": "execute_result"
        }
      ],
      "source": [
        "sport_train.history"
      ]
    },
    {
      "cell_type": "code",
      "execution_count": 24,
      "metadata": {
        "colab": {
          "base_uri": "https://localhost:8080/",
          "height": 887
        },
        "id": "hY8uFd0pEaK7",
        "outputId": "2fc12853-4220-4334-ea23-0366a9d8f8d0",
        "scrolled": false
      },
      "outputs": [
        {
          "data": {
            "image/png": "[encoded data removed]",
            "text/plain": [
              "<Figure size 640x480 with 1 Axes>"
            ]
          },
          "metadata": {},
          "output_type": "display_data"
        },
        {
          "data": {
            "image/png": "[encoded data removed]",
            "text/plain": [
              "<Figure size 640x480 with 1 Axes>"
            ]
          },
          "metadata": {},
          "output_type": "display_data"
        }
      ],
      "source": [
        "accuracy = sport_train.history['accuracy']\n",
        "val_accuracy = sport_train.history['val_accuracy']\n",
        "loss = sport_train.history['loss']\n",
        "val_loss = sport_train.history['val_loss']\n",
        "epochs = range(len(accuracy))\n",
        "plt.plot(epochs, accuracy, 'bo', label='Training accuracy')\n",
        "plt.plot(epochs, val_accuracy, 'b', label='Validation accuracy')\n",
        "plt.title('Training and validation accuracy')\n",
        "plt.legend()\n",
        "plt.figure()\n",
        "plt.plot(epochs, loss, 'bo', label='Training loss')\n",
        "plt.plot(epochs, val_loss, 'b', label='Validation loss')\n",
        "plt.title('Training and validation loss')\n",
        "plt.legend()\n",
        "plt.show()"
      ]
    },
    {
      "cell_type": "code",
      "execution_count": 27,
      "metadata": {
        "colab": {
          "base_uri": "https://localhost:8080/"
        },
        "id": "x2njZ4rJEaK7",
        "outputId": "675cdc4b-a7e3-49d3-ecad-4dbf3a237765"
      },
      "outputs": [
        {
          "name": "stdout",
          "output_type": "stream",
          "text": [
            "167/167 [==============================] - 4s 19ms/step\n"
          ]
        }
      ],
      "source": [
        "predicted_classes2 = sport_model.predict(test_X)"
      ]
    },
    {
      "cell_type": "code",
      "execution_count": 28,
      "metadata": {
        "id": "55evuROIEaK8"
      },
      "outputs": [],
      "source": [
        "predicted_classes=[]\n",
        "for predicted_sport in predicted_classes2:\n",
        "    predicted_classes.append(predicted_sport.tolist().index(max(predicted_sport)))\n",
        "predicted_classes=np.array(predicted_classes)"
      ]
    },
    {
      "cell_type": "code",
      "execution_count": 29,
      "metadata": {
        "colab": {
          "base_uri": "https://localhost:8080/"
        },
        "id": "p_syUE7xEaK8",
        "outputId": "aa988f88-ffaa-42a5-9af8-bc4cb5c69a79"
      },
      "outputs": [
        {
          "data": {
            "text/plain": [
              "((5329,), (5329,))"
            ]
          },
          "execution_count": 29,
          "metadata": {},
          "output_type": "execute_result"
        }
      ],
      "source": [
        "predicted_classes.shape, test_Y.shape"
      ]
    },
    {
      "attachments": {},
      "cell_type": "markdown",
      "metadata": {
        "id": "uyCMG3DyEaK8"
      },
      "source": [
        "# Aprendamos de los errores: Qué mejorar"
      ]
    },
    {
      "cell_type": "code",
      "execution_count": 27,
      "metadata": {
        "colab": {
          "base_uri": "https://localhost:8080/",
          "height": 561
        },
        "id": "v5gUvjl9EaK9",
        "outputId": "379c032f-ecfc-4c83-ac10-453e70bea7a0"
      },
      "outputs": [
        {
          "name": "stdout",
          "output_type": "stream",
          "text": [
            "Found 4176 correct labels\n"
          ]
        },
        {
          "name": "stderr",
          "output_type": "stream",
          "text": [
            "C:\\Users\\karla\\AppData\\Local\\Temp\\ipykernel_14560\\166765134.py:4: MatplotlibDeprecationWarning: Auto-removal of overlapping axes is deprecated since 3.6 and will be removed two minor releases later; explicitly call ax.remove() as needed.\n",
            "  plt.subplot(3,3,i+1)\n"
          ]
        },
        {
          "data": {
            "image/png": "[encoded data removed]",
            "text/plain": [
              "<Figure size 640x480 with 8 Axes>"
            ]
          },
          "metadata": {},
          "output_type": "display_data"
        }
      ],
      "source": [
        "correct = np.where(predicted_classes==test_Y)[0]\n",
        "print(\"Found %d correct labels\" % len(correct))\n",
        "for i, correct in enumerate(correct[0:9]):\n",
        "    plt.subplot(3,3,i+1)\n",
        "    plt.imshow(test_X[correct].reshape(28,28,3), cmap='gray', interpolation='none')\n",
        "    plt.title(\"{}, {}\".format(caras[predicted_classes[correct]],\n",
        "                                                    caras[test_Y[correct]]))\n",
        "\n",
        "    plt.tight_layout()"
      ]
    },
    {
      "cell_type": "code",
      "execution_count": 30,
      "metadata": {
        "colab": {
          "base_uri": "https://localhost:8080/",
          "height": 561
        },
        "id": "3SJY35ljEaK9",
        "outputId": "b39d3094-5f44-4d9f-f289-e4888e6899fe"
      },
      "outputs": [
        {
          "name": "stdout",
          "output_type": "stream",
          "text": [
            "Found 85 incorrect labels\n"
          ]
        },
        {
          "name": "stderr",
          "output_type": "stream",
          "text": [
            "C:\\Users\\karla\\AppData\\Local\\Temp\\ipykernel_9668\\3252689814.py:4: MatplotlibDeprecationWarning: Auto-removal of overlapping axes is deprecated since 3.6 and will be removed two minor releases later; explicitly call ax.remove() as needed.\n",
            "  plt.subplot(3,3,i+1)\n"
          ]
        },
        {
          "data": {
            "image/png": "[encoded data removed]",
            "text/plain": [
              "<Figure size 640x480 with 8 Axes>"
            ]
          },
          "metadata": {},
          "output_type": "display_data"
        }
      ],
      "source": [
        "incorrect = np.where(predicted_classes!=test_Y)[0]\n",
        "print(\"Found %d incorrect labels\" % len(incorrect))\n",
        "for i, incorrect in enumerate(incorrect[0:9]):\n",
        "    plt.subplot(3,3,i+1)\n",
        "    plt.imshow(test_X[incorrect].reshape(28,28,3), cmap='gray', interpolation='none')\n",
        "    plt.title(\"{}, {}\".format(caras[predicted_classes[incorrect]],\n",
        "                                                    caras[test_Y[incorrect]]))\n",
        "    plt.tight_layout()"
      ]
    },
    {
      "cell_type": "code",
      "execution_count": 31,
      "metadata": {
        "colab": {
          "base_uri": "https://localhost:8080/"
        },
        "id": "6eiFDoODEaK9",
        "outputId": "e342badb-11c1-46c4-e793-f7ea9d55e8e4",
        "scrolled": true
      },
      "outputs": [
        {
          "name": "stdout",
          "output_type": "stream",
          "text": [
            "              precision    recall  f1-score   support\n",
            "\n",
            "     Class 0       0.99      1.00      0.99      1250\n",
            "     Class 1       1.00      0.95      0.98      1044\n",
            "     Class 2       0.95      1.00      0.97      1029\n",
            "     Class 3       0.99      0.99      0.99      1058\n",
            "     Class 4       0.99      0.99      0.99       948\n",
            "\n",
            "    accuracy                           0.98      5329\n",
            "   macro avg       0.98      0.98      0.98      5329\n",
            "weighted avg       0.98      0.98      0.98      5329\n",
            "\n"
          ]
        }
      ],
      "source": [
        "target_names = [\"Class {}\".format(i) for i in range(nClasses)]\n",
        "print(classification_report(test_Y, predicted_classes, target_names=target_names))"
      ]
    },
    {
      "cell_type": "code",
      "execution_count": 32,
      "metadata": {
        "id": "djtyHtxLEaK-"
      },
      "outputs": [
        {
          "name": "stdout",
          "output_type": "stream",
          "text": [
            "hola\n"
          ]
        },
        {
          "ename": "KeyboardInterrupt",
          "evalue": "",
          "output_type": "error",
          "traceback": [
            "\u001b[1;31m---------------------------------------------------------------------------\u001b[0m",
            "\u001b[1;31mKeyboardInterrupt\u001b[0m                         Traceback (most recent call last)",
            "\u001b[1;32mc:\\Users\\karla\\Documents\\inteligencia_artificial\\CNN_karla.ipynb Celda 43\u001b[0m in \u001b[0;36m9\n\u001b[0;32m      <a href='vscode-notebook-cell:/c%3A/Users/karla/Documents/inteligencia_artificial/CNN_karla.ipynb#X62sZmlsZQ%3D%3D?line=6'>7</a>\u001b[0m \u001b[39mprint\u001b[39m(\u001b[39m\"\u001b[39m\u001b[39mhola\u001b[39m\u001b[39m\"\u001b[39m)\n\u001b[0;32m      <a href='vscode-notebook-cell:/c%3A/Users/karla/Documents/inteligencia_artificial/CNN_karla.ipynb#X62sZmlsZQ%3D%3D?line=7'>8</a>\u001b[0m cv2\u001b[39m.\u001b[39mimshow(\u001b[39m\"\u001b[39m\u001b[39mImagen\u001b[39m\u001b[39m\"\u001b[39m, image)\n\u001b[1;32m----> <a href='vscode-notebook-cell:/c%3A/Users/karla/Documents/inteligencia_artificial/CNN_karla.ipynb#X62sZmlsZQ%3D%3D?line=8'>9</a>\u001b[0m cv2\u001b[39m.\u001b[39;49mwaitKey(\u001b[39m0\u001b[39;49m)\n\u001b[0;32m     <a href='vscode-notebook-cell:/c%3A/Users/karla/Documents/inteligencia_artificial/CNN_karla.ipynb#X62sZmlsZQ%3D%3D?line=11'>12</a>\u001b[0m cv2\u001b[39m.\u001b[39mdestroyAllWindows()\n\u001b[0;32m     <a href='vscode-notebook-cell:/c%3A/Users/karla/Documents/inteligencia_artificial/CNN_karla.ipynb#X62sZmlsZQ%3D%3D?line=13'>14</a>\u001b[0m \u001b[39mprint\u001b[39m(\u001b[39m\"\u001b[39m\u001b[39mCalculando...\u001b[39m\u001b[39m\"\u001b[39m)\n",
            "\u001b[1;31mKeyboardInterrupt\u001b[0m: "
          ]
        }
      ],
      "source": [
        "import cv2\n",
        "import numpy as np\n",
        "import keras\n",
        "loaded_model = keras.models.load_model(\"/Users/karla/Documents/inteligencia_artificial/tareas/celulas.h5py\")\n",
        "image = cv2.imread(\"/Users/karla/Documents/inteligencia_artificial/tareas/datasetcara/rodrigo/roy800.jpg\")\n",
        "\n",
        "print(\"hola\")\n",
        "cv2.imshow(\"Imagen\", image)\n",
        "cv2.waitKey(0)\n",
        "\n",
        "\n",
        "cv2.destroyAllWindows()\n",
        "\n",
        "print(\"Calculando...\")\n",
        "#Ajustar la imagen al entrenamiento\n",
        "image = cv2.resize(image,(28, 28))\n",
        "\n",
        "#Agregar una dimension adicional para representar el loto de datos\n",
        "image = np.expand_dims(image, axis = 0)\n",
        "predictions = loaded_model.predict(image)\n",
        "predicted_class_index = np.argmax(predictions)\n",
        "\n",
        "class_name = {\n",
        "    0: \"Jessica\",\n",
        "    1: \"Rodrigo\",\n",
        "    2: \"William\",\n",
        "    3: \"Karla\",\n",
        "   4: \"Jorge\"\n",
        "}\n",
        "\n",
        "#Obtiene el nombre de la clase predicha\n",
        "predicted_class_name = class_name[predicted_class_index]\n",
        "\n",
        "#Imprimir el resultado\n",
        "print(\"\\nLa persona que se muestra en la foto es: \", predicted_class_name)"
      ]
    },
    {
      "cell_type": "code",
      "execution_count": 34,
      "metadata": {},
      "outputs": [
        {
          "name": "stdout",
          "output_type": "stream",
          "text": [
            "1/1 [==============================] - 1s 794ms/step\n",
            "1/1 [==============================] - 0s 66ms/step\n",
            "1/1 [==============================] - 0s 46ms/step\n",
            "1/1 [==============================] - 0s 48ms/step\n",
            "1/1 [==============================] - 0s 69ms/step\n",
            "1/1 [==============================] - 0s 47ms/step\n",
            "1/1 [==============================] - 0s 44ms/step\n",
            "1/1 [==============================] - 0s 46ms/step\n",
            "1/1 [==============================] - 0s 52ms/step\n",
            "1/1 [==============================] - 0s 52ms/step\n",
            "1/1 [==============================] - 0s 48ms/step\n",
            "1/1 [==============================] - 0s 45ms/step\n",
            "1/1 [==============================] - 0s 75ms/step\n",
            "1/1 [==============================] - 0s 45ms/step\n",
            "1/1 [==============================] - 0s 46ms/step\n",
            "1/1 [==============================] - 0s 68ms/step\n",
            "1/1 [==============================] - 0s 57ms/step\n",
            "1/1 [==============================] - 0s 43ms/step\n",
            "1/1 [==============================] - 0s 45ms/step\n",
            "1/1 [==============================] - 0s 41ms/step\n",
            "1/1 [==============================] - 0s 45ms/step\n",
            "1/1 [==============================] - 0s 48ms/step\n",
            "1/1 [==============================] - 0s 50ms/step\n",
            "1/1 [==============================] - 0s 46ms/step\n",
            "1/1 [==============================] - 0s 61ms/step\n",
            "1/1 [==============================] - 0s 52ms/step\n",
            "1/1 [==============================] - 0s 43ms/step\n",
            "1/1 [==============================] - 0s 54ms/step\n",
            "1/1 [==============================] - 0s 47ms/step\n",
            "1/1 [==============================] - 0s 45ms/step\n",
            "1/1 [==============================] - 0s 44ms/step\n",
            "1/1 [==============================] - 0s 43ms/step\n",
            "1/1 [==============================] - 0s 54ms/step\n",
            "1/1 [==============================] - 0s 53ms/step\n",
            "1/1 [==============================] - 0s 53ms/step\n",
            "1/1 [==============================] - 0s 57ms/step\n",
            "1/1 [==============================] - 0s 48ms/step\n",
            "1/1 [==============================] - 0s 47ms/step\n",
            "1/1 [==============================] - 0s 48ms/step\n",
            "1/1 [==============================] - 0s 44ms/step\n",
            "1/1 [==============================] - 0s 46ms/step\n",
            "1/1 [==============================] - 0s 54ms/step\n",
            "1/1 [==============================] - 0s 47ms/step\n",
            "1/1 [==============================] - 0s 52ms/step\n",
            "1/1 [==============================] - 0s 44ms/step\n",
            "1/1 [==============================] - 0s 55ms/step\n",
            "1/1 [==============================] - 0s 45ms/step\n",
            "1/1 [==============================] - 0s 45ms/step\n",
            "1/1 [==============================] - 0s 45ms/step\n",
            "1/1 [==============================] - 0s 93ms/step\n",
            "1/1 [==============================] - 0s 47ms/step\n",
            "1/1 [==============================] - 0s 48ms/step\n",
            "1/1 [==============================] - 0s 45ms/step\n",
            "1/1 [==============================] - 0s 47ms/step\n",
            "1/1 [==============================] - 0s 48ms/step\n",
            "1/1 [==============================] - 0s 48ms/step\n",
            "1/1 [==============================] - 0s 42ms/step\n",
            "1/1 [==============================] - 0s 51ms/step\n",
            "1/1 [==============================] - 0s 44ms/step\n",
            "1/1 [==============================] - 0s 45ms/step\n",
            "1/1 [==============================] - 0s 49ms/step\n",
            "1/1 [==============================] - 0s 48ms/step\n",
            "1/1 [==============================] - 0s 44ms/step\n",
            "1/1 [==============================] - 0s 49ms/step\n",
            "1/1 [==============================] - 0s 45ms/step\n",
            "1/1 [==============================] - 0s 42ms/step\n",
            "1/1 [==============================] - 0s 42ms/step\n",
            "1/1 [==============================] - 0s 45ms/step\n",
            "1/1 [==============================] - 0s 44ms/step\n",
            "1/1 [==============================] - 0s 50ms/step\n",
            "1/1 [==============================] - 0s 49ms/step\n",
            "1/1 [==============================] - 0s 49ms/step\n",
            "1/1 [==============================] - 0s 49ms/step\n",
            "1/1 [==============================] - 0s 42ms/step\n",
            "1/1 [==============================] - 0s 47ms/step\n",
            "1/1 [==============================] - 0s 43ms/step\n",
            "1/1 [==============================] - 0s 42ms/step\n",
            "1/1 [==============================] - 0s 46ms/step\n",
            "1/1 [==============================] - 0s 44ms/step\n",
            "1/1 [==============================] - 0s 59ms/step\n",
            "1/1 [==============================] - 0s 40ms/step\n",
            "1/1 [==============================] - 0s 49ms/step\n",
            "1/1 [==============================] - 0s 44ms/step\n",
            "1/1 [==============================] - 0s 66ms/step\n",
            "1/1 [==============================] - 0s 41ms/step\n",
            "1/1 [==============================] - 0s 45ms/step\n",
            "1/1 [==============================] - 0s 49ms/step\n",
            "1/1 [==============================] - 0s 48ms/step\n",
            "1/1 [==============================] - 0s 45ms/step\n",
            "1/1 [==============================] - 0s 43ms/step\n",
            "1/1 [==============================] - 0s 44ms/step\n",
            "1/1 [==============================] - 0s 46ms/step\n",
            "1/1 [==============================] - 0s 45ms/step\n",
            "1/1 [==============================] - 0s 46ms/step\n",
            "1/1 [==============================] - 0s 44ms/step\n",
            "1/1 [==============================] - 0s 43ms/step\n",
            "1/1 [==============================] - 0s 44ms/step\n",
            "1/1 [==============================] - 0s 45ms/step\n",
            "1/1 [==============================] - 0s 45ms/step\n",
            "1/1 [==============================] - 0s 45ms/step\n",
            "1/1 [==============================] - 0s 40ms/step\n",
            "1/1 [==============================] - 0s 43ms/step\n",
            "1/1 [==============================] - 0s 42ms/step\n",
            "1/1 [==============================] - 0s 47ms/step\n",
            "1/1 [==============================] - 0s 43ms/step\n",
            "1/1 [==============================] - 0s 47ms/step\n",
            "1/1 [==============================] - 0s 41ms/step\n",
            "1/1 [==============================] - 0s 44ms/step\n",
            "1/1 [==============================] - 0s 45ms/step\n",
            "1/1 [==============================] - 0s 44ms/step\n",
            "1/1 [==============================] - 0s 43ms/step\n",
            "1/1 [==============================] - 0s 45ms/step\n",
            "1/1 [==============================] - 0s 50ms/step\n",
            "1/1 [==============================] - 0s 96ms/step\n",
            "1/1 [==============================] - 0s 52ms/step\n",
            "1/1 [==============================] - 0s 47ms/step\n",
            "1/1 [==============================] - 0s 42ms/step\n",
            "1/1 [==============================] - 0s 43ms/step\n",
            "1/1 [==============================] - 0s 42ms/step\n",
            "1/1 [==============================] - 0s 51ms/step\n",
            "1/1 [==============================] - 0s 46ms/step\n",
            "1/1 [==============================] - 0s 43ms/step\n",
            "1/1 [==============================] - 0s 49ms/step\n",
            "1/1 [==============================] - 0s 46ms/step\n",
            "1/1 [==============================] - 0s 41ms/step\n",
            "1/1 [==============================] - 0s 46ms/step\n",
            "1/1 [==============================] - 0s 47ms/step\n",
            "1/1 [==============================] - 0s 46ms/step\n",
            "1/1 [==============================] - 0s 42ms/step\n",
            "1/1 [==============================] - 0s 41ms/step\n",
            "1/1 [==============================] - 0s 42ms/step\n",
            "1/1 [==============================] - 0s 43ms/step\n",
            "1/1 [==============================] - 0s 46ms/step\n",
            "1/1 [==============================] - 0s 44ms/step\n",
            "1/1 [==============================] - 0s 44ms/step\n",
            "1/1 [==============================] - 0s 43ms/step\n",
            "1/1 [==============================] - 0s 43ms/step\n",
            "1/1 [==============================] - 0s 44ms/step\n",
            "1/1 [==============================] - 0s 47ms/step\n",
            "1/1 [==============================] - 0s 44ms/step\n",
            "1/1 [==============================] - 0s 41ms/step\n",
            "1/1 [==============================] - 0s 41ms/step\n",
            "1/1 [==============================] - 0s 107ms/step\n",
            "1/1 [==============================] - 0s 43ms/step\n",
            "1/1 [==============================] - 0s 52ms/step\n",
            "1/1 [==============================] - 0s 45ms/step\n",
            "1/1 [==============================] - 0s 46ms/step\n",
            "1/1 [==============================] - 0s 51ms/step\n",
            "1/1 [==============================] - 0s 44ms/step\n",
            "1/1 [==============================] - 0s 42ms/step\n",
            "1/1 [==============================] - 0s 47ms/step\n",
            "1/1 [==============================] - 0s 44ms/step\n",
            "1/1 [==============================] - 0s 52ms/step\n",
            "1/1 [==============================] - 0s 41ms/step\n",
            "1/1 [==============================] - 0s 59ms/step\n",
            "1/1 [==============================] - 0s 41ms/step\n",
            "1/1 [==============================] - 0s 44ms/step\n",
            "1/1 [==============================] - 0s 44ms/step\n",
            "1/1 [==============================] - 0s 42ms/step\n",
            "1/1 [==============================] - 0s 45ms/step\n",
            "1/1 [==============================] - 0s 42ms/step\n",
            "1/1 [==============================] - 0s 42ms/step\n",
            "1/1 [==============================] - 0s 41ms/step\n",
            "1/1 [==============================] - 0s 45ms/step\n"
          ]
        },
        {
          "data": {
            "text/plain": [
              "-1"
            ]
          },
          "execution_count": 34,
          "metadata": {},
          "output_type": "execute_result"
        }
      ],
      "source": [
        "from PIL import Image\n",
        "import numpy as np\n",
        "import cv2\n",
        "import pickle\n",
        "from tensorflow.keras.models import load_model\n",
        "\n",
        "face_cascade = cv2.CascadeClassifier('haarcascade_frontalface_alt.xml')\n",
        "\n",
        "screen_width = 480\n",
        "screen_height = 260\n",
        "\n",
        "image_width = 28\n",
        "image_height = 28\n",
        "\n",
        "model = load_model('/Users/karla/Documents/inteligencia_artificial/tareas/celulas.h5py')\n",
        "\n",
        "class_labels = ['jessica', 'rodrigo', 'william', 'karla', 'jorge']\n",
        "\n",
        "stream = cv2.VideoCapture(0)\n",
        "\n",
        "while True:\n",
        "    (grabbed, frame) = stream.read()\n",
        "    rgb = cv2.cvtColor(frame, cv2.COLOR_BGR2RGB)\n",
        "\n",
        "    faces = face_cascade.detectMultiScale(rgb, scaleFactor=1.3, minNeighbors=5)\n",
        "\n",
        "    for (x, y, w, h) in faces:\n",
        "        roi_rgb = rgb[y:y + h, x:x + w]\n",
        "\n",
        "        color = (255, 0, 0)\n",
        "        stroke = 2\n",
        "        cv2.rectangle(frame, (x, y), (x + w, y + h), color, stroke)\n",
        "\n",
        "        # Redimensionar la imagen\n",
        "        size = (image_width, image_height)\n",
        "        resized_image = cv2.resize(roi_rgb, size)\n",
        "        image_array = np.array(resized_image, \"uint8\")\n",
        "        img = image_array.reshape(1, image_width, image_height, 3)\n",
        "        img = img.astype('float32')\n",
        "        img /= 255\n",
        "\n",
        "        # Realizar la predicción de la imagen\n",
        "        predicted_prob = model.predict(img)\n",
        "\n",
        "        # Obtener la clase predicha\n",
        "        predicted_class = np.argmax(predicted_prob)\n",
        "        class_label = class_labels[predicted_class]\n",
        "\n",
        "        # Mostrar la etiqueta\n",
        "        font = cv2.FONT_HERSHEY_SIMPLEX\n",
        "        color = (255, 0, 255)\n",
        "        stroke = 2\n",
        "        cv2.putText(frame, f'({class_label})', (x, y - 8), font, 1, color, stroke, cv2.LINE_AA)\n",
        "\n",
        "    cv2.imshow(\"Image\", frame)\n",
        "    key = cv2.waitKey(1) & 0xFF\n",
        "    if key == ord(\"q\"):\n",
        "        break\n",
        "\n",
        "stream.release()\n",
        "cv2.waitKey(1)\n",
        "cv2.destroyAllWindows()\n",
        "cv2.waitKey(1)\n"
      ]
    }
  ],
  "metadata": {
    "colab": {
      "provenance": []
    },
    "kernelspec": {
      "display_name": "Python 3 (ipykernel)",
      "language": "python",
      "name": "python3"
    },
    "language_info": {
      "codemirror_mode": {
        "name": "ipython",
        "version": 3
      },
      "file_extension": ".py",
      "mimetype": "text/x-python",
      "name": "python",
      "nbconvert_exporter": "python",
      "pygments_lexer": "ipython3",
      "version": "3.10.4"
    },
    "widgets": {
      "application/vnd.jupyter.widget-state+json": {
        "9a184605d99a43ec815677bd25e4a128": {
          "model_module": "jupyter-webrtc",
          "model_module_version": "~0.6.0",
          "model_name": "CameraStreamModel",
          "state": {
            "_dom_classes": [],
            "_model_module": "jupyter-webrtc",
            "_model_module_version": "~0.6.0",
            "_model_name": "CameraStreamModel",
            "_view_count": null,
            "_view_module": "jupyter-webrtc",
            "_view_module_version": "~0.6.0",
            "_view_name": "MediaStreamView",
            "constraints": {
              "facing_mode": "user"
            },
            "layout": "IPY_MODEL_7a09b0161f5d4b0eaa4fde543fcc894d"
          }
        }
      }
    }
  },
  "nbformat": 4,
  "nbformat_minor": 0
}
